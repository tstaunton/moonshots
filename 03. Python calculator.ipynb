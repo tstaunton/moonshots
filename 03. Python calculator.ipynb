{
 "cells": [
  {
   "cell_type": "code",
   "execution_count": 2,
   "metadata": {},
   "outputs": [
    {
     "name": "stdout",
     "output_type": "stream",
     "text": [
      "------------ Python Calculator ------------\n",
      "Select calculation:\n",
      "\n",
      "1. Add\n",
      "2. Subtract\n",
      "3. Multiply\n",
      "4. Divide\n",
      "\n",
      "Enter calculation number (1, 2, 3, 4): 3\n",
      "Enter the first number: 4\n",
      "Enter the second number: 5\n",
      "4 * 5 = 20\n"
     ]
    }
   ],
   "source": [
    "# Print statement with heading\n",
    "print(\"------------ Python Calculator ------------\")\n",
    "\n",
    "# Function 1, add two numbers and return the result\n",
    "def add(x, y):\n",
    "    return x + y\n",
    "\n",
    "# Function 2, subtract one number from another and return the result\n",
    "def subtract(x, y):\n",
    "    return x - y\n",
    "\n",
    "# Function 3, multiply two numbers together and return the result\n",
    "def multiply(x, y):\n",
    "    return x * y\n",
    "\n",
    "# Function 4, divide one number by another and return the result\n",
    "def divide(x, y):\n",
    "    return x / y\n",
    "\n",
    "# Create a user menu to select a calculation to perform\n",
    "print(\"Select calculation:\\n\")\n",
    "print(\"1. Add\")\n",
    "print(\"2. Subtract\")\n",
    "print(\"3. Multiply\")\n",
    "print(\"4. Divide\")\n",
    "\n",
    "# Create a variable and assign it the number entered by the user\n",
    "choice = input(\"\\nEnter calculation number (1, 2, 3, 4): \")\n",
    "\n",
    "\n",
    "num1 = int(input(\"Enter the first number: \"))\n",
    "num2 = int(input(\"Enter the second number: \"))\n",
    "\n",
    "if choice == '1':\n",
    "    print(num1, \"+\" ,num2, \"=\", add(num1, num2))\n",
    "    \n",
    "elif choice == '2':\n",
    "    print(num1, \"-\", num2, \"=\", subtract(num1, num2))\n",
    "    \n",
    "elif choice == '3':\n",
    "    print(num1, \"*\", num2, \"=\", multiply(num1, num2))\n",
    "    \n",
    "elif choice == '4':\n",
    "    print(num1, \"/\", num2, \"=\", divide(num1, num2))\n",
    "else:\n",
    "    print(\"Invalid input.\")"
   ]
  },
  {
   "cell_type": "code",
   "execution_count": null,
   "metadata": {},
   "outputs": [],
   "source": []
  }
 ],
 "metadata": {
  "kernelspec": {
   "display_name": "Python 3",
   "language": "python",
   "name": "python3"
  },
  "language_info": {
   "codemirror_mode": {
    "name": "ipython",
    "version": 3
   },
   "file_extension": ".py",
   "mimetype": "text/x-python",
   "name": "python",
   "nbconvert_exporter": "python",
   "pygments_lexer": "ipython3",
   "version": "3.8.3"
  },
  "varInspector": {
   "cols": {
    "lenName": 16,
    "lenType": 16,
    "lenVar": 40
   },
   "kernels_config": {
    "python": {
     "delete_cmd_postfix": "",
     "delete_cmd_prefix": "del ",
     "library": "var_list.py",
     "varRefreshCmd": "print(var_dic_list())"
    },
    "r": {
     "delete_cmd_postfix": ") ",
     "delete_cmd_prefix": "rm(",
     "library": "var_list.r",
     "varRefreshCmd": "cat(var_dic_list()) "
    }
   },
   "types_to_exclude": [
    "module",
    "function",
    "builtin_function_or_method",
    "instance",
    "_Feature"
   ],
   "window_display": false
  }
 },
 "nbformat": 4,
 "nbformat_minor": 4
}
